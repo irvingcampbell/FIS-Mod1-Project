{
 "cells": [
  {
   "cell_type": "code",
   "execution_count": 2,
   "metadata": {},
   "outputs": [],
   "source": [
    "import numpy as np\n",
    "import pandas as pd\n",
    "\n",
    "bom_df = pd.read_csv('bom.movie_gross.csv.gz')"
   ]
  },
  {
   "cell_type": "markdown",
   "metadata": {},
   "source": [
    "# Information on the individual data sets:\n",
    "\n",
    "## Box Office Mojo (bom.movie_gross.csv.gz)\n",
    "\n",
    "Columns: *title, studio, domestic_gross, foreign_gross, year*\n",
    "\n",
    "* **title**: Type = str.  Appears to be only in English.\n",
    "* **studio**: Type = str.  They are all abbreviations (BV = Buena Vista, Sum. = Summit, etc.)\n",
    "* **domestic_gross**: Type = float64.  In US Dollars.\n",
    "* **foreign_gross**: Type = float64.  In US Dollars.\n",
    "* **year**: Type = int64.  Year of release.\n",
    "\n",
    "## IMDB\n",
    "\n",
    "### IMDB name basics (imdb.name.basics.csv.gz)\n",
    "\n",
    "Columns: *nconst, primary_name, birth_year, death_year, primary_profession, known_for_titles*\n",
    "\n",
    "* **nconst**: Type = str.  IMDB name identifier for a person.\n",
    "* **primary_name**: Type = str.  Full name of person, can be multiple words.\n",
    "* **birth_year**: Type = float64.\n",
    "* **death_year**: Type = float64.\n",
    "* **known_for_titles**: Type = str.  IMDB identifier(s) for film titles.  Can be multiple identifiers separated by commas.\n",
    "\n",
    "### IMDB title akas (imdb.title.akas.csv.gz)\n",
    "\n",
    "Columns: *title_id, ordering, title, region, language, types, attributes, is_original_title*\n",
    "\n",
    "* **title_id**: Type = str. IMDB identifier for film title.\n",
    "* **ordering**: Type = int64.  Number identifier.\n",
    "* **title**: Type = str. Localized title, could be in a different language\n",
    "* **region**: Type = str.  Abbreviation for local region.\n",
    "* **language**: Type = str. Language of title.\n",
    "* **types**: Type = str. Enumerated set of attributes.  Seems to be IMDB-focused, and not movie-focused.\n",
    "* **attributes**: Type = str. Non-enumerated set of attributes.  Seems to be IMDB-focused, and not movie-focused.\n",
    "* **is_original_title**: Type = float64.  1 = True, 0 = False.\n",
    "\n",
    "### IMDB title basics (imdb.title.basics.csv.gz)\n",
    "\n",
    "Columns: *tconst, primary_title, original_title, start_year, runtime_minutes, genres*\n",
    "\n",
    "* **tconst**: Type = str. IMDB identifier for film title.\n",
    "* **primary_title**: Type = str.  The popularly-used title of the film.\n",
    "* **original_title**: Type = str.  The original title in its original language.\n",
    "* **start_year**: Type = int64. Release year.\n",
    "* **runtime_minutes**: Type = float64. Minutes of runtime\n",
    "* **genres**: Type = str.  Up to three genre classifications for the film.\n",
    "\n",
    "\n",
    "\n"
   ]
  },
  {
   "cell_type": "code",
   "execution_count": 3,
   "metadata": {},
   "outputs": [],
   "source": [
    "imdb_title_basics = pd.read_csv('imdb.title.basics.csv.gz')"
   ]
  },
  {
   "cell_type": "code",
   "execution_count": 18,
   "metadata": {},
   "outputs": [
    {
     "name": "stdout",
     "output_type": "stream",
     "text": [
      "<class 'pandas.core.frame.DataFrame'>\n",
      "RangeIndex: 146144 entries, 0 to 146143\n",
      "Data columns (total 6 columns):\n",
      "tconst             146144 non-null object\n",
      "primary_title      146144 non-null object\n",
      "original_title     146123 non-null object\n",
      "start_year         146144 non-null int64\n",
      "runtime_minutes    114405 non-null float64\n",
      "genres             140736 non-null object\n",
      "dtypes: float64(1), int64(1), object(4)\n",
      "memory usage: 6.7+ MB\n"
     ]
    }
   ],
   "source": [
    "imdb_title_basics.info()"
   ]
  },
  {
   "cell_type": "code",
   "execution_count": null,
   "metadata": {},
   "outputs": [],
   "source": []
  }
 ],
 "metadata": {
  "kernelspec": {
   "display_name": "learn-env",
   "language": "python",
   "name": "learn-env"
  },
  "language_info": {
   "codemirror_mode": {
    "name": "ipython",
    "version": 3
   },
   "file_extension": ".py",
   "mimetype": "text/x-python",
   "name": "python",
   "nbconvert_exporter": "python",
   "pygments_lexer": "ipython3",
   "version": "3.6.6"
  }
 },
 "nbformat": 4,
 "nbformat_minor": 2
}
